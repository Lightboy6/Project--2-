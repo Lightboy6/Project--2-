{
 "cells": [
  {
   "cell_type": "code",
   "execution_count": 80,
   "id": "71314137-31e4-4dd1-8157-97a47e468b7c",
   "metadata": {},
   "outputs": [],
   "source": [
    "# Initial imports\n",
    "import os\n",
    "import pandas as pd\n",
    "from pathlib import Path\n",
    "from dotenv import load_dotenv\n",
    "import alpaca_trade_api as tradeapi"
   ]
  },
  {
   "cell_type": "code",
   "execution_count": 81,
   "id": "f877374e-dbe6-4a64-bc12-68548dec97cf",
   "metadata": {},
   "outputs": [
    {
     "name": "stderr",
     "output_type": "stream",
     "text": [
      "Python-dotenv could not parse statement starting at line 1\n"
     ]
    },
    {
     "data": {
      "text/plain": [
       "True"
      ]
     },
     "execution_count": 81,
     "metadata": {},
     "output_type": "execute_result"
    }
   ],
   "source": [
    "# Load .env environment variables\n",
    "env_path = Path(\"./alpaca_keys.env\")\n",
    "load_dotenv(dotenv_path=env_path)"
   ]
  },
  {
   "cell_type": "code",
   "execution_count": 82,
   "id": "0a0daa86-2ac8-4f26-afc8-8ee530d439ab",
   "metadata": {},
   "outputs": [],
   "source": [
    "\n",
    "API_KEY = os.getenv(\"ALPACA_API_KEY\")\n",
    "API_SECRET = os.getenv(\"ALPACA_SECRET_KEY\")\n",
    "ALPACA_API_BASE_URL = \"https://paper-api.alpaca.markets\""
   ]
  },
  {
   "cell_type": "code",
   "execution_count": 83,
   "id": "f09a244f-8a17-4e5d-8155-96c00e0eea39",
   "metadata": {},
   "outputs": [],
   "source": [
    "# Create a connection to the API \n",
    "alpaca = tradeapi.REST(\n",
    "    API_KEY,\n",
    "    API_SECRET,\n",
    "    ALPACA_API_BASE_URL,\n",
    "    api_version=\"v2\")"
   ]
  },
  {
   "cell_type": "code",
   "execution_count": 84,
   "id": "2e54c3a5-4991-4004-b868-4b5025fba5e6",
   "metadata": {},
   "outputs": [],
   "source": [
    "# Set the tickers\n",
    "eth_ticker = [\"ETHUSD\"]\n",
    "btc_ticker = [\"BTCUSD\"]\n"
   ]
  },
  {
   "cell_type": "code",
   "execution_count": 85,
   "id": "2c13ec2c-0f9f-4df0-b38a-87ec55406f23",
   "metadata": {},
   "outputs": [],
   "source": [
    "# Set the parameter tz to \"America/New_York\", \n",
    "\n",
    "start_date = pd.Timestamp(\"2019-01-01\", tz=\"America/New_York\").isoformat()\n",
    "end_date = pd.Timestamp(\"2022-02-08\", tz=\"America/New_York\").isoformat()"
   ]
  },
  {
   "cell_type": "code",
   "execution_count": 86,
   "id": "af5e9952-5951-45b9-9dd0-07c48be2b6c7",
   "metadata": {},
   "outputs": [],
   "source": [
    "# Set timeframe to one day (1D) for the Alpaca API\n",
    "timeframe = \"1Day\""
   ]
  },
  {
   "cell_type": "code",
   "execution_count": 87,
   "id": "6887df95-e0c7-44fe-b5ac-64e38de97b50",
   "metadata": {},
   "outputs": [
    {
     "data": {
      "text/html": [
       "<div>\n",
       "<style scoped>\n",
       "    .dataframe tbody tr th:only-of-type {\n",
       "        vertical-align: middle;\n",
       "    }\n",
       "\n",
       "    .dataframe tbody tr th {\n",
       "        vertical-align: top;\n",
       "    }\n",
       "\n",
       "    .dataframe thead th {\n",
       "        text-align: right;\n",
       "    }\n",
       "</style>\n",
       "<table border=\"1\" class=\"dataframe\">\n",
       "  <thead>\n",
       "    <tr style=\"text-align: right;\">\n",
       "      <th></th>\n",
       "      <th>exchange</th>\n",
       "      <th>open</th>\n",
       "      <th>high</th>\n",
       "      <th>low</th>\n",
       "      <th>close</th>\n",
       "      <th>volume</th>\n",
       "      <th>trade_count</th>\n",
       "      <th>vwap</th>\n",
       "      <th>symbol</th>\n",
       "    </tr>\n",
       "    <tr>\n",
       "      <th>timestamp</th>\n",
       "      <th></th>\n",
       "      <th></th>\n",
       "      <th></th>\n",
       "      <th></th>\n",
       "      <th></th>\n",
       "      <th></th>\n",
       "      <th></th>\n",
       "      <th></th>\n",
       "      <th></th>\n",
       "    </tr>\n",
       "  </thead>\n",
       "  <tbody>\n",
       "    <tr>\n",
       "      <th>2019-01-01 06:00:00+00:00</th>\n",
       "      <td>CBSE</td>\n",
       "      <td>139.76</td>\n",
       "      <td>140.78</td>\n",
       "      <td>138.75</td>\n",
       "      <td>140.08</td>\n",
       "      <td>26097.095665</td>\n",
       "      <td>5858</td>\n",
       "      <td>139.777527</td>\n",
       "      <td>ETHUSD</td>\n",
       "    </tr>\n",
       "    <tr>\n",
       "      <th>2019-01-02 06:00:00+00:00</th>\n",
       "      <td>CBSE</td>\n",
       "      <td>140.07</td>\n",
       "      <td>156.69</td>\n",
       "      <td>139.20</td>\n",
       "      <td>153.50</td>\n",
       "      <td>211090.270676</td>\n",
       "      <td>35710</td>\n",
       "      <td>149.714191</td>\n",
       "      <td>ETHUSD</td>\n",
       "    </tr>\n",
       "    <tr>\n",
       "      <th>2019-01-03 06:00:00+00:00</th>\n",
       "      <td>CBSE</td>\n",
       "      <td>147.23</td>\n",
       "      <td>154.60</td>\n",
       "      <td>145.14</td>\n",
       "      <td>153.68</td>\n",
       "      <td>56000.437678</td>\n",
       "      <td>10478</td>\n",
       "      <td>150.172809</td>\n",
       "      <td>ETHUSD</td>\n",
       "    </tr>\n",
       "    <tr>\n",
       "      <th>2019-01-04 06:00:00+00:00</th>\n",
       "      <td>CBSE</td>\n",
       "      <td>153.24</td>\n",
       "      <td>160.62</td>\n",
       "      <td>153.23</td>\n",
       "      <td>159.11</td>\n",
       "      <td>86632.841486</td>\n",
       "      <td>16097</td>\n",
       "      <td>158.788582</td>\n",
       "      <td>ETHUSD</td>\n",
       "    </tr>\n",
       "    <tr>\n",
       "      <th>2019-01-05 06:00:00+00:00</th>\n",
       "      <td>CBSE</td>\n",
       "      <td>159.11</td>\n",
       "      <td>159.19</td>\n",
       "      <td>152.92</td>\n",
       "      <td>154.21</td>\n",
       "      <td>121956.919138</td>\n",
       "      <td>27112</td>\n",
       "      <td>156.200254</td>\n",
       "      <td>ETHUSD</td>\n",
       "    </tr>\n",
       "  </tbody>\n",
       "</table>\n",
       "</div>"
      ],
      "text/plain": [
       "                          exchange    open    high     low   close  \\\n",
       "timestamp                                                            \n",
       "2019-01-01 06:00:00+00:00     CBSE  139.76  140.78  138.75  140.08   \n",
       "2019-01-02 06:00:00+00:00     CBSE  140.07  156.69  139.20  153.50   \n",
       "2019-01-03 06:00:00+00:00     CBSE  147.23  154.60  145.14  153.68   \n",
       "2019-01-04 06:00:00+00:00     CBSE  153.24  160.62  153.23  159.11   \n",
       "2019-01-05 06:00:00+00:00     CBSE  159.11  159.19  152.92  154.21   \n",
       "\n",
       "                                  volume  trade_count        vwap  symbol  \n",
       "timestamp                                                                  \n",
       "2019-01-01 06:00:00+00:00   26097.095665         5858  139.777527  ETHUSD  \n",
       "2019-01-02 06:00:00+00:00  211090.270676        35710  149.714191  ETHUSD  \n",
       "2019-01-03 06:00:00+00:00   56000.437678        10478  150.172809  ETHUSD  \n",
       "2019-01-04 06:00:00+00:00   86632.841486        16097  158.788582  ETHUSD  \n",
       "2019-01-05 06:00:00+00:00  121956.919138        27112  156.200254  ETHUSD  "
      ]
     },
     "metadata": {},
     "output_type": "display_data"
    }
   ],
   "source": [
    "# Use the Alpaca get_crypto_bars function to gather the price information for ETHEREUM\n",
    "\n",
    "eth_data_df = alpaca.get_crypto_bars(\n",
    "    eth_ticker,\n",
    "    timeframe,\n",
    "    start = start_date,\n",
    "    end = end_date\n",
    ").df\n",
    "\n",
    "\n",
    "# Review the resulting `portfolio_prices_df` DataFrame. \n",
    "display(eth_data_df.head())\n"
   ]
  },
  {
   "cell_type": "code",
   "execution_count": 96,
   "id": "f67915d1-27de-4501-8083-1e6f4959c153",
   "metadata": {},
   "outputs": [
    {
     "data": {
      "text/html": [
       "<div>\n",
       "<style scoped>\n",
       "    .dataframe tbody tr th:only-of-type {\n",
       "        vertical-align: middle;\n",
       "    }\n",
       "\n",
       "    .dataframe tbody tr th {\n",
       "        vertical-align: top;\n",
       "    }\n",
       "\n",
       "    .dataframe thead th {\n",
       "        text-align: right;\n",
       "    }\n",
       "</style>\n",
       "<table border=\"1\" class=\"dataframe\">\n",
       "  <thead>\n",
       "    <tr style=\"text-align: right;\">\n",
       "      <th></th>\n",
       "      <th>symbol</th>\n",
       "      <th>open</th>\n",
       "      <th>high</th>\n",
       "      <th>low</th>\n",
       "      <th>close</th>\n",
       "      <th>volume</th>\n",
       "    </tr>\n",
       "    <tr>\n",
       "      <th>timestamp</th>\n",
       "      <th></th>\n",
       "      <th></th>\n",
       "      <th></th>\n",
       "      <th></th>\n",
       "      <th></th>\n",
       "      <th></th>\n",
       "    </tr>\n",
       "  </thead>\n",
       "  <tbody>\n",
       "    <tr>\n",
       "      <th>2019-01-01 06:00:00+00:00</th>\n",
       "      <td>ETHUSD</td>\n",
       "      <td>139.76</td>\n",
       "      <td>140.78</td>\n",
       "      <td>138.75</td>\n",
       "      <td>140.08</td>\n",
       "      <td>26097.095665</td>\n",
       "    </tr>\n",
       "    <tr>\n",
       "      <th>2019-01-02 06:00:00+00:00</th>\n",
       "      <td>ETHUSD</td>\n",
       "      <td>140.07</td>\n",
       "      <td>156.69</td>\n",
       "      <td>139.20</td>\n",
       "      <td>153.50</td>\n",
       "      <td>211090.270676</td>\n",
       "    </tr>\n",
       "    <tr>\n",
       "      <th>2019-01-03 06:00:00+00:00</th>\n",
       "      <td>ETHUSD</td>\n",
       "      <td>147.23</td>\n",
       "      <td>154.60</td>\n",
       "      <td>145.14</td>\n",
       "      <td>153.68</td>\n",
       "      <td>56000.437678</td>\n",
       "    </tr>\n",
       "    <tr>\n",
       "      <th>2019-01-04 06:00:00+00:00</th>\n",
       "      <td>ETHUSD</td>\n",
       "      <td>153.24</td>\n",
       "      <td>160.62</td>\n",
       "      <td>153.23</td>\n",
       "      <td>159.11</td>\n",
       "      <td>86632.841486</td>\n",
       "    </tr>\n",
       "    <tr>\n",
       "      <th>2019-01-05 06:00:00+00:00</th>\n",
       "      <td>ETHUSD</td>\n",
       "      <td>159.11</td>\n",
       "      <td>159.19</td>\n",
       "      <td>152.92</td>\n",
       "      <td>154.21</td>\n",
       "      <td>121956.919138</td>\n",
       "    </tr>\n",
       "  </tbody>\n",
       "</table>\n",
       "</div>"
      ],
      "text/plain": [
       "                           symbol    open    high     low   close  \\\n",
       "timestamp                                                           \n",
       "2019-01-01 06:00:00+00:00  ETHUSD  139.76  140.78  138.75  140.08   \n",
       "2019-01-02 06:00:00+00:00  ETHUSD  140.07  156.69  139.20  153.50   \n",
       "2019-01-03 06:00:00+00:00  ETHUSD  147.23  154.60  145.14  153.68   \n",
       "2019-01-04 06:00:00+00:00  ETHUSD  153.24  160.62  153.23  159.11   \n",
       "2019-01-05 06:00:00+00:00  ETHUSD  159.11  159.19  152.92  154.21   \n",
       "\n",
       "                                  volume  \n",
       "timestamp                                 \n",
       "2019-01-01 06:00:00+00:00   26097.095665  \n",
       "2019-01-02 06:00:00+00:00  211090.270676  \n",
       "2019-01-03 06:00:00+00:00   56000.437678  \n",
       "2019-01-04 06:00:00+00:00   86632.841486  \n",
       "2019-01-05 06:00:00+00:00  121956.919138  "
      ]
     },
     "metadata": {},
     "output_type": "display_data"
    },
    {
     "data": {
      "text/plain": [
       "<AxesSubplot:xlabel='timestamp'>"
      ]
     },
     "execution_count": 96,
     "metadata": {},
     "output_type": "execute_result"
    },
    {
     "data": {
      "image/png": "[encoded data removed]",
      "text/plain": [
       "<Figure size 432x288 with 1 Axes>"
      ]
     },
     "metadata": {
      "needs_background": "light"
     },
     "output_type": "display_data"
    }
   ],
   "source": [
    "eth_prices_df = eth_data_df[['symbol', 'open', 'high', 'low', 'close', 'volume']]\n",
    "display(eth_prices_df.head())\n",
    "eth_prices_df.plot()"
   ]
  },
  {
   "cell_type": "code",
   "execution_count": 94,
   "id": "f66c2077-25cb-4576-9ecd-b6ff53035aa2",
   "metadata": {},
   "outputs": [
    {
     "data": {
      "text/html": [
       "<div>\n",
       "<style scoped>\n",
       "    .dataframe tbody tr th:only-of-type {\n",
       "        vertical-align: middle;\n",
       "    }\n",
       "\n",
       "    .dataframe tbody tr th {\n",
       "        vertical-align: top;\n",
       "    }\n",
       "\n",
       "    .dataframe thead th {\n",
       "        text-align: right;\n",
       "    }\n",
       "</style>\n",
       "<table border=\"1\" class=\"dataframe\">\n",
       "  <thead>\n",
       "    <tr style=\"text-align: right;\">\n",
       "      <th></th>\n",
       "      <th>exchange</th>\n",
       "      <th>open</th>\n",
       "      <th>high</th>\n",
       "      <th>low</th>\n",
       "      <th>close</th>\n",
       "      <th>volume</th>\n",
       "      <th>trade_count</th>\n",
       "      <th>vwap</th>\n",
       "      <th>symbol</th>\n",
       "    </tr>\n",
       "    <tr>\n",
       "      <th>timestamp</th>\n",
       "      <th></th>\n",
       "      <th></th>\n",
       "      <th></th>\n",
       "      <th></th>\n",
       "      <th></th>\n",
       "      <th></th>\n",
       "      <th></th>\n",
       "      <th></th>\n",
       "      <th></th>\n",
       "    </tr>\n",
       "  </thead>\n",
       "  <tbody>\n",
       "    <tr>\n",
       "      <th>2019-01-01 06:00:00+00:00</th>\n",
       "      <td>CBSE</td>\n",
       "      <td>3826.10</td>\n",
       "      <td>3838.30</td>\n",
       "      <td>3790.29</td>\n",
       "      <td>3800.01</td>\n",
       "      <td>1711.687854</td>\n",
       "      <td>10480</td>\n",
       "      <td>3803.825350</td>\n",
       "      <td>BTCUSD</td>\n",
       "    </tr>\n",
       "    <tr>\n",
       "      <th>2019-01-02 06:00:00+00:00</th>\n",
       "      <td>CBSE</td>\n",
       "      <td>3890.80</td>\n",
       "      <td>3893.80</td>\n",
       "      <td>3832.00</td>\n",
       "      <td>3850.06</td>\n",
       "      <td>3036.293299</td>\n",
       "      <td>13480</td>\n",
       "      <td>3871.716588</td>\n",
       "      <td>BTCUSD</td>\n",
       "    </tr>\n",
       "    <tr>\n",
       "      <th>2019-01-03 06:00:00+00:00</th>\n",
       "      <td>CBSE</td>\n",
       "      <td>3848.80</td>\n",
       "      <td>3858.51</td>\n",
       "      <td>3758.07</td>\n",
       "      <td>3787.57</td>\n",
       "      <td>5939.077066</td>\n",
       "      <td>32287</td>\n",
       "      <td>3804.655777</td>\n",
       "      <td>BTCUSD</td>\n",
       "    </tr>\n",
       "    <tr>\n",
       "      <th>2019-01-04 06:00:00+00:00</th>\n",
       "      <td>CBSE</td>\n",
       "      <td>3820.82</td>\n",
       "      <td>3874.12</td>\n",
       "      <td>3820.81</td>\n",
       "      <td>3859.75</td>\n",
       "      <td>1800.544004</td>\n",
       "      <td>13352</td>\n",
       "      <td>3847.300562</td>\n",
       "      <td>BTCUSD</td>\n",
       "    </tr>\n",
       "    <tr>\n",
       "      <th>2019-01-05 06:00:00+00:00</th>\n",
       "      <td>CBSE</td>\n",
       "      <td>3799.99</td>\n",
       "      <td>3806.55</td>\n",
       "      <td>3756.01</td>\n",
       "      <td>3800.01</td>\n",
       "      <td>1324.317077</td>\n",
       "      <td>13141</td>\n",
       "      <td>3790.952563</td>\n",
       "      <td>BTCUSD</td>\n",
       "    </tr>\n",
       "  </tbody>\n",
       "</table>\n",
       "</div>"
      ],
      "text/plain": [
       "                          exchange     open     high      low    close  \\\n",
       "timestamp                                                                \n",
       "2019-01-01 06:00:00+00:00     CBSE  3826.10  3838.30  3790.29  3800.01   \n",
       "2019-01-02 06:00:00+00:00     CBSE  3890.80  3893.80  3832.00  3850.06   \n",
       "2019-01-03 06:00:00+00:00     CBSE  3848.80  3858.51  3758.07  3787.57   \n",
       "2019-01-04 06:00:00+00:00     CBSE  3820.82  3874.12  3820.81  3859.75   \n",
       "2019-01-05 06:00:00+00:00     CBSE  3799.99  3806.55  3756.01  3800.01   \n",
       "\n",
       "                                volume  trade_count         vwap  symbol  \n",
       "timestamp                                                                 \n",
       "2019-01-01 06:00:00+00:00  1711.687854        10480  3803.825350  BTCUSD  \n",
       "2019-01-02 06:00:00+00:00  3036.293299        13480  3871.716588  BTCUSD  \n",
       "2019-01-03 06:00:00+00:00  5939.077066        32287  3804.655777  BTCUSD  \n",
       "2019-01-04 06:00:00+00:00  1800.544004        13352  3847.300562  BTCUSD  \n",
       "2019-01-05 06:00:00+00:00  1324.317077        13141  3790.952563  BTCUSD  "
      ]
     },
     "metadata": {},
     "output_type": "display_data"
    }
   ],
   "source": [
    "# Use the Alpaca get_crypto_bars function to gather the price information for BITCOIN\n",
    "btc_data_df = alpaca.get_crypto_bars(\n",
    "    btc_ticker,\n",
    "    timeframe,\n",
    "    start = start_date,\n",
    "    end = end_date\n",
    ").df\n",
    "\n",
    "display(btc_data_df.head())"
   ]
  },
  {
   "cell_type": "code",
   "execution_count": 95,
   "id": "64cba144-988a-4ba8-b4da-acfe25ad8a11",
   "metadata": {},
   "outputs": [
    {
     "data": {
      "text/html": [
       "<div>\n",
       "<style scoped>\n",
       "    .dataframe tbody tr th:only-of-type {\n",
       "        vertical-align: middle;\n",
       "    }\n",
       "\n",
       "    .dataframe tbody tr th {\n",
       "        vertical-align: top;\n",
       "    }\n",
       "\n",
       "    .dataframe thead th {\n",
       "        text-align: right;\n",
       "    }\n",
       "</style>\n",
       "<table border=\"1\" class=\"dataframe\">\n",
       "  <thead>\n",
       "    <tr style=\"text-align: right;\">\n",
       "      <th></th>\n",
       "      <th>symbol</th>\n",
       "      <th>open</th>\n",
       "      <th>high</th>\n",
       "      <th>low</th>\n",
       "      <th>close</th>\n",
       "      <th>volume</th>\n",
       "    </tr>\n",
       "    <tr>\n",
       "      <th>timestamp</th>\n",
       "      <th></th>\n",
       "      <th></th>\n",
       "      <th></th>\n",
       "      <th></th>\n",
       "      <th></th>\n",
       "      <th></th>\n",
       "    </tr>\n",
       "  </thead>\n",
       "  <tbody>\n",
       "    <tr>\n",
       "      <th>2019-01-01 06:00:00+00:00</th>\n",
       "      <td>BTCUSD</td>\n",
       "      <td>3826.10</td>\n",
       "      <td>3838.30</td>\n",
       "      <td>3790.29</td>\n",
       "      <td>3800.01</td>\n",
       "      <td>1711.687854</td>\n",
       "    </tr>\n",
       "    <tr>\n",
       "      <th>2019-01-02 06:00:00+00:00</th>\n",
       "      <td>BTCUSD</td>\n",
       "      <td>3890.80</td>\n",
       "      <td>3893.80</td>\n",
       "      <td>3832.00</td>\n",
       "      <td>3850.06</td>\n",
       "      <td>3036.293299</td>\n",
       "    </tr>\n",
       "    <tr>\n",
       "      <th>2019-01-03 06:00:00+00:00</th>\n",
       "      <td>BTCUSD</td>\n",
       "      <td>3848.80</td>\n",
       "      <td>3858.51</td>\n",
       "      <td>3758.07</td>\n",
       "      <td>3787.57</td>\n",
       "      <td>5939.077066</td>\n",
       "    </tr>\n",
       "    <tr>\n",
       "      <th>2019-01-04 06:00:00+00:00</th>\n",
       "      <td>BTCUSD</td>\n",
       "      <td>3820.82</td>\n",
       "      <td>3874.12</td>\n",
       "      <td>3820.81</td>\n",
       "      <td>3859.75</td>\n",
       "      <td>1800.544004</td>\n",
       "    </tr>\n",
       "    <tr>\n",
       "      <th>2019-01-05 06:00:00+00:00</th>\n",
       "      <td>BTCUSD</td>\n",
       "      <td>3799.99</td>\n",
       "      <td>3806.55</td>\n",
       "      <td>3756.01</td>\n",
       "      <td>3800.01</td>\n",
       "      <td>1324.317077</td>\n",
       "    </tr>\n",
       "  </tbody>\n",
       "</table>\n",
       "</div>"
      ],
      "text/plain": [
       "                           symbol     open     high      low    close  \\\n",
       "timestamp                                                               \n",
       "2019-01-01 06:00:00+00:00  BTCUSD  3826.10  3838.30  3790.29  3800.01   \n",
       "2019-01-02 06:00:00+00:00  BTCUSD  3890.80  3893.80  3832.00  3850.06   \n",
       "2019-01-03 06:00:00+00:00  BTCUSD  3848.80  3858.51  3758.07  3787.57   \n",
       "2019-01-04 06:00:00+00:00  BTCUSD  3820.82  3874.12  3820.81  3859.75   \n",
       "2019-01-05 06:00:00+00:00  BTCUSD  3799.99  3806.55  3756.01  3800.01   \n",
       "\n",
       "                                volume  \n",
       "timestamp                               \n",
       "2019-01-01 06:00:00+00:00  1711.687854  \n",
       "2019-01-02 06:00:00+00:00  3036.293299  \n",
       "2019-01-03 06:00:00+00:00  5939.077066  \n",
       "2019-01-04 06:00:00+00:00  1800.544004  \n",
       "2019-01-05 06:00:00+00:00  1324.317077  "
      ]
     },
     "metadata": {},
     "output_type": "display_data"
    },
    {
     "data": {
      "text/plain": [
       "<AxesSubplot:xlabel='timestamp'>"
      ]
     },
     "execution_count": 95,
     "metadata": {},
     "output_type": "execute_result"
    },
    {
     "data": {
      "image/png": "[encoded data removed]",
      "text/plain": [
       "<Figure size 432x288 with 1 Axes>"
      ]
     },
     "metadata": {
      "needs_background": "light"
     },
     "output_type": "display_data"
    }
   ],
   "source": [
    "btc_prices_df = btc_data_df[['symbol', 'open', 'high', 'low', 'close', 'volume']]\n",
    "\n",
    "display(btc_prices_df.head())\n",
    "btc_prices_df.plot()"
   ]
  },
  {
   "cell_type": "code",
   "execution_count": null,
   "id": "22195e8e-193f-4a5e-881d-6e1c30b3ff08",
   "metadata": {},
   "outputs": [],
   "source": [
    "# Set signal variable\n",
    "#signal = 1"
   ]
  },
  {
   "cell_type": "code",
   "execution_count": null,
   "id": "debb3980-5469-4420-b1b5-b83a7af0396b",
   "metadata": {},
   "outputs": [],
   "source": [
    "# Create buy signal, num shares and ticker\n",
    "#if signal == 1:\n",
    "    orderSide = \"buy\"\n",
    "#else:\n",
    "    orderSide = \"sell\""
   ]
  },
  {
   "cell_type": "code",
   "execution_count": null,
   "id": "6f6b2d9e-46b0-4ed7-8c5b-9e3b4c5f24d7",
   "metadata": {},
   "outputs": [],
   "source": [
    "# Set the ticket symbol and the number of shares to buy\n",
    "#ticker = \"BTC\"\n",
    "#number_of_shares = .001"
   ]
  },
  {
   "cell_type": "code",
   "execution_count": null,
   "id": "3347b232-9af9-4c2b-8e87-ae8127971464",
   "metadata": {},
   "outputs": [],
   "source": [
    "# Get final closing price\n",
    "#prices = api.get_barset(ticker, \"1Day\").df\n",
    "#prices"
   ]
  },
  {
   "cell_type": "code",
   "execution_count": null,
   "id": "5ff813c5-b05b-46d5-bfaf-6fbcbe2060ac",
   "metadata": {},
   "outputs": [],
   "source": [
    "#limit_amount = prices[\"BTC\"][\"close\"][-1]\n",
    "#limit_amount"
   ]
  },
  {
   "cell_type": "code",
   "execution_count": null,
   "id": "8e4bcd52-33bc-4171-a399-fecf48e2df00",
   "metadata": {},
   "outputs": [],
   "source": [
    "# Submit order\n",
    "#api.submit_order(\n",
    "    ##qty=number_of_shares, \n",
    "   #####)"
   ]
  },
  {
   "cell_type": "code",
   "execution_count": null,
   "id": "d80ef4ba-5e64-4196-abb9-05211ccdd28c",
   "metadata": {},
   "outputs": [],
   "source": []
  }
 ],
 "metadata": {
  "kernelspec": {
   "display_name": "Python (dev)",
   "language": "python",
   "name": "dev"
  },
  "language_info": {
   "codemirror_mode": {
    "name": "ipython",
    "version": 3
   },
   "file_extension": ".py",
   "mimetype": "text/x-python",
   "name": "python",
   "nbconvert_exporter": "python",
   "pygments_lexer": "ipython3",
   "version": "3.7.10"
  }
 },
 "nbformat": 4,
 "nbformat_minor": 5
}
